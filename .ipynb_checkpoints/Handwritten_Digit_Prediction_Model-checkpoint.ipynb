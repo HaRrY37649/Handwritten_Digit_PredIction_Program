{
 "cells": [
  {
   "metadata": {},
   "cell_type": "markdown",
   "source": "# import library",
   "id": "ef9fdd52a902436d"
  },
  {
   "cell_type": "code",
   "id": "initial_id",
   "metadata": {
    "collapsed": true,
    "ExecuteTime": {
     "end_time": "2024-09-28T19:50:14.972410Z",
     "start_time": "2024-09-28T19:50:13.818837Z"
    }
   },
   "source": [
    "import numpy as np\n",
    "import struct\n",
    "from array import array\n",
    "import random\n",
    "import matplotlib.pyplot as plt"
   ],
   "outputs": [],
   "execution_count": 4
  },
  {
   "metadata": {},
   "cell_type": "markdown",
   "source": "# MNIST data loader class\n",
   "id": "791625c573e957ae"
  },
  {
   "metadata": {
    "ExecuteTime": {
     "end_time": "2024-09-28T19:50:07.082177Z",
     "start_time": "2024-09-28T19:50:07.075757Z"
    }
   },
   "cell_type": "code",
   "source": [
    "#MNIST data loader class\n",
    "class MnistDataLoader(object):\n",
    "    def __init__(self,training_images_filepath,training_labels_filepath,testing_images_filepath,testing_labels_filepath):\n",
    "        #Initializes the class with file paths for the training and testing images and labels.\n",
    "        self.training_images_filepath = training_images_filepath\n",
    "        self.training_labels_filepath = training_labels_filepath\n",
    "        self.testing_images_filepath = testing_images_filepath\n",
    "        self.testing_labels_filepath = testing_labels_filepath\n",
    "    \n",
    "    def read_data(self,image_filepath,label_filepath):\n",
    "        labels_data = [] #As the labels are read from the file (in the read_images_labels method), they will be appended to this list.\n",
    "        with open(label_filepath,\"rb\")as file:  #read binary for labels\n",
    "            magic, size = struct.unpack(\">II\", file.read(16)) #The line is used to read and unpack binary data from a labels file \n",
    "            if magic != 2049:\n",
    "                raise ValueError(\"Magic number mismatch,expected 2049,got\",magic)\n",
    "            labels_data = array(\"B\", file.read()) \n",
    "            #is used to read the labels from a binary file and store them in an array\n",
    "        with open(image_filepath,\"rb\") as file: #read images for images\n",
    "            magic, size,rows,cols = struct.unpack(\">III\",file.read(32))#The line is used to read and unpack binary data from a labels file \n",
    "            if magic != 2051:\n",
    "                raise ValueError(\"Magic number mismatch,expected 2051,got\",magic)\n",
    "            images_data = array(\"B\", file.read())\n",
    "        \n",
    "        images =[]\n",
    "        for i in range(size): # is responsible for loading both the training and test datasets \n",
    "            img = np.array(images_data[i * rows *cols:(i + 1) * rows * cols])\n",
    "            img = img.reshape(28,28)\n",
    "            images.append(img) #append reshaped image\n",
    "        return images,labels_data\n",
    "    \n",
    "    def load_data(self):\n",
    "        x_train,y_train = self.read_data(self.training_images_filepath,self.training_labels_filepath) #A list of training images (reshaped to 28x28),training labels\n",
    "        x_test,y_test = self.read_data(self.testing_images_filepath,self.testing_labels_filepath) #A list of testing images (reshaped to 28x28),testing labels\n",
    "        return(x_train,y_train), (x_test,y_test)   "
   ],
   "id": "d0b910772dde9bc6",
   "outputs": [],
   "execution_count": 3
  },
  {
   "metadata": {},
   "cell_type": "markdown",
   "source": "# Set file paths based on added MNIST Datasets",
   "id": "920380d72ed9bf03"
  },
  {
   "metadata": {
    "ExecuteTime": {
     "end_time": "2024-09-28T19:49:57.184714Z",
     "start_time": "2024-09-28T19:49:57.180690Z"
    }
   },
   "cell_type": "code",
   "source": [
    "training_images_filepath = \"H:/Handwritten_Digit_PredIction_Program/trainingimages.idx3-ubyte\"\n",
    "training_labels_filepath = \"H:/Handwritten_Digit_PredIction_Program_Program/traininglabels.idx1-ubyte\"\n",
    "testing_images_filepath  = \"H:/Handwritten_Digit_PredIction_Program/testingimages.idx3-ubyte\"\n",
    "testing_labels_filepath  = \"H:/Handwritten_Digit_PredIction_Program/testinglabels.idx1-ubyte\""
   ],
   "id": "fa4b0a64c0b6a54a",
   "outputs": [],
   "execution_count": 2
  },
  {
   "metadata": {},
   "cell_type": "markdown",
   "source": [
    "#  function to show a list of images with their titles\n",
    "\n",
    "\n"
   ],
   "id": "54d6d40c78f1e2e1"
  },
  {
   "metadata": {
    "ExecuteTime": {
     "end_time": "2024-09-29T06:56:09.581872Z",
     "start_time": "2024-09-29T06:56:09.574811Z"
    }
   },
   "cell_type": "code",
   "source": [
    "def show_images(images,title_texts):\n",
    "    cols = 5   \n",
    "    #Sets the number of columns for the image grid to 5.\n",
    "    rows = int(len(images)/cols) + 1 \n",
    "    #Calculates the number of rows needed based on the total number of images\n",
    "    plt.figure(figsize = (30,20)) #This creates a new figure with a specified size of 30x20 inches for displaying the images.\n",
    "    index =1\n",
    "    for x in zip(images,title_texts):  #function in Python takes multiple iterables and combines them into a single iterable of tuples\n",
    "        image = x[0]\n",
    "        title_texts = x[1]\n",
    "        plt.subplot(rows, cols, index)\n",
    "        plt.subplot(rows,cols,index)#This function creates a grid of subplots within a figure.\n",
    "        plt.imshow(image, cmap=plt.get.cm.gray) # This function displays an image in the current subplot.\n",
    "        if title_texts != '':\n",
    "            plt.title(title_texts,fontsize=15)\n",
    "        index += 1"
   ],
   "id": "1f20045ef09e8c43",
   "outputs": [],
   "execution_count": 1
  },
  {
   "metadata": {},
   "cell_type": "markdown",
   "source": "# Load MNIST dataset ",
   "id": "d5b6e90ce9772524"
  },
  {
   "metadata": {},
   "cell_type": "code",
   "outputs": [],
   "execution_count": null,
   "source": "mnist_dataloader = MnistDataLoader(training_images_filepath,training_labels_filepath,testing_images_filepath,testing_labels_filepath) # creating an instance of a class\n",
   "id": "99a4781120d9e84b"
  }
 ],
 "metadata": {
  "kernelspec": {
   "display_name": "Python 3",
   "language": "python",
   "name": "python3"
  },
  "language_info": {
   "codemirror_mode": {
    "name": "ipython",
    "version": 2
   },
   "file_extension": ".py",
   "mimetype": "text/x-python",
   "name": "python",
   "nbconvert_exporter": "python",
   "pygments_lexer": "ipython2",
   "version": "2.7.6"
  }
 },
 "nbformat": 4,
 "nbformat_minor": 5
}
